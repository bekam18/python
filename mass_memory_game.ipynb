{
  "nbformat": 4,
  "nbformat_minor": 0,
  "metadata": {
    "colab": {
      "provenance": [],
      "authorship_tag": "ABX9TyNV1Qp8/bFc4dF8YTDqy6MZ",
      "include_colab_link": true
    },
    "kernelspec": {
      "name": "python3",
      "display_name": "Python 3"
    },
    "language_info": {
      "name": "python"
    }
  },
  "cells": [
    {
      "cell_type": "markdown",
      "metadata": {
        "id": "view-in-github",
        "colab_type": "text"
      },
      "source": [
        "<a href=\"https://colab.research.google.com/github/bekam18/python/blob/main/mass_memory_game.ipynb\" target=\"_parent\"><img src=\"https://colab.research.google.com/assets/colab-badge.svg\" alt=\"Open In Colab\"/></a>"
      ]
    },
    {
      "cell_type": "code",
      "execution_count": null,
      "metadata": {
        "colab": {
          "base_uri": "https://localhost:8080/"
        },
        "id": "Xxca4a7Lbrjv",
        "outputId": "7fe97dfa-25f9-4a10-d544-ae5b3c1c7297"
      },
      "outputs": [
        {
          "output_type": "stream",
          "name": "stdout",
          "text": [
            "Memory Game Board\n",
            "\n",
            "X X X X\n",
            "X X X X\n",
            "X X X X\n",
            "X X X X\n",
            "\n",
            "\n",
            "Enter the coordinates (row and column) of the first card:\n",
            "Row Col (0-indexed): 1 2\n",
            "Enter the coordinates of the second card:\n",
            "Row Col (0-indexed): 3 2\n",
            "Memory Game Board\n",
            "\n",
            "X X X X\n",
            "X X D X\n",
            "X X X X\n",
            "X X G X\n",
            "\n",
            "\n",
            "Not a match. Cards will flip back.\n",
            "Memory Game Board\n",
            "\n",
            "X X X X\n",
            "X X X X\n",
            "X X X X\n",
            "X X X X\n",
            "\n",
            "\n",
            "Enter the coordinates (row and column) of the first card:\n"
          ]
        }
      ],
      "source": [
        "import random\n",
        "import os\n",
        "import time\n",
        "\n",
        "# Game board generator\n",
        "def create_board(size):\n",
        "    symbols = [chr(65 + i) for i in range(size * size // 2)] * 2  # Create pairs of symbols (A, B, C...)\n",
        "    random.shuffle(symbols)\n",
        "    return [symbols[i:i+size] for i in range(0, len(symbols), size)]\n",
        "\n",
        "# Display the current state of the board\n",
        "def display_board(board, revealed):\n",
        "    os.system('cls' if os.name == 'nt' else 'clear')  # Clear screen\n",
        "    print(\"Memory Game Board\\n\")\n",
        "    for i, row in enumerate(board):\n",
        "        row_display = []\n",
        "        for j, cell in enumerate(row):\n",
        "            if revealed[i][j]:\n",
        "                row_display.append(cell)\n",
        "            else:\n",
        "                row_display.append(\"X\")\n",
        "        print(\" \".join(row_display))\n",
        "    print(\"\\n\")\n",
        "\n",
        "# Check if all cells are revealed\n",
        "def all_revealed(revealed):\n",
        "    return all(all(row) for row in revealed)\n",
        "\n",
        "# Main game function\n",
        "def memory_game():\n",
        "    size = 4  # Board size: 4x4\n",
        "    board = create_board(size)\n",
        "    revealed = [[False] * size for _ in range(size)]\n",
        "\n",
        "    moves = 0\n",
        "    pairs_found = 0\n",
        "\n",
        "    while not all_revealed(revealed):\n",
        "        display_board(board, revealed)\n",
        "\n",
        "        try:\n",
        "            print(\"Enter the coordinates (row and column) of the first card:\")\n",
        "            r1, c1 = map(int, input(\"Row Col (0-indexed): \").split())\n",
        "            print(\"Enter the coordinates of the second card:\")\n",
        "            r2, c2 = map(int, input(\"Row Col (0-indexed): \").split())\n",
        "\n",
        "            # Validate inputs\n",
        "            if not (0 <= r1 < size and 0 <= c1 < size and 0 <= r2 < size and 0 <= c2 < size):\n",
        "                print(\"Invalid coordinates! Try again.\")\n",
        "                time.sleep(1)\n",
        "                continue\n",
        "\n",
        "            if revealed[r1][c1] or revealed[r2][c2] or (r1 == r2 and c1 == c2):\n",
        "                print(\"Invalid move! Try again.\")\n",
        "                time.sleep(1)\n",
        "                continue\n",
        "\n",
        "            # Reveal cards\n",
        "            revealed[r1][c1], revealed[r2][c2] = True, True\n",
        "            display_board(board, revealed)\n",
        "            moves += 1\n",
        "\n",
        "            # Check for a match\n",
        "            if board[r1][c1] == board[r2][c2]:\n",
        "                print(\"It's a match!\")\n",
        "                pairs_found += 1\n",
        "            else:\n",
        "                print(\"Not a match. Cards will flip back.\")\n",
        "                revealed[r1][c1], revealed[r2][c2] = False, False\n",
        "                time.sleep(2)\n",
        "\n",
        "        except ValueError:\n",
        "            print(\"Invalid input format. Please enter row and column as numbers.\")\n",
        "            time.sleep(1)\n",
        "\n",
        "    print(f\"Congratulations! You found all pairs in {moves} moves.\")\n",
        "\n",
        "# Run the game\n",
        "if __name__ == \"__main__\":\n",
        "    memory_game()\n"
      ]
    }
  ]
}