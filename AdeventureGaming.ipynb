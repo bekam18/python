{
  "cells": [
    {
      "cell_type": "markdown",
      "metadata": {
        "id": "view-in-github",
        "colab_type": "text"
      },
      "source": [
        "<a href=\"https://colab.research.google.com/github/bekam18/python/blob/main/AdeventureGaming.ipynb\" target=\"_parent\"><img src=\"https://colab.research.google.com/assets/colab-badge.svg\" alt=\"Open In Colab\"/></a>"
      ]
    },
    {
      "cell_type": "code",
      "execution_count": null,
      "metadata": {
        "id": "hFkuGn1zp7gR",
        "colab": {
          "base_uri": "https://localhost:8080/"
        },
        "outputId": "b248db9e-a95f-470b-a03c-db06b0a52929"
      },
      "outputs": [
        {
          "output_type": "stream",
          "name": "stdout",
          "text": [
            "You are in a field with a house and a cave.\n",
            "You have a small dagger in your hand.\n",
            "Will you go to the house or the cave?\n",
            "Type 'house' or 'cave': cave\n",
            "You enter the cave and find a magical sword!\n",
            "You now have a powerful weapon to fight the dragon.\n",
            "Type 'house' or 'cave': cave\n",
            "You enter the cave and find a magical sword!\n",
            "You now have a powerful weapon to fight the dragon.\n",
            "Type 'house' or 'cave': house\n",
            "You knock on the door of the house.\n",
            "A dragon appears!\n",
            "You use the magical sword to defeat the dragon. You win!\n"
          ]
        }
      ],
      "source": [
        "def intro():\n",
        "    print(\"You are in a field with a house and a cave.\")\n",
        "    print(\"You have a small dagger in your hand.\")\n",
        "    print(\"Will you go to the house or the cave?\")\n",
        "\n",
        "def house(has_sword):\n",
        "    print(\"You knock on the door of the house.\")\n",
        "    print(\"A dragon appears!\")\n",
        "    if has_sword:\n",
        "        print(\"You use the magical sword to defeat the dragon. You win!\")\n",
        "    else:\n",
        "        print(\"With only a dagger, the dragon defeats you. Game over!\")\n",
        "        play_again()\n",
        "    return has_sword  # Return the current sword status to maintain continuity.\n",
        "\n",
        "def cave():\n",
        "    print(\"You enter the cave and find a magical sword!\")\n",
        "    print(\"You now have a powerful weapon to fight the dragon.\")\n",
        "    return True  # Indicate that the player now has the sword.\n",
        "\n",
        "def play_game():\n",
        "    intro()\n",
        "    has_sword = False  # Initialize sword status.\n",
        "\n",
        "    while True:\n",
        "        choice = input(\"Type 'house' or 'cave': \").lower()\n",
        "        if choice == 'house':\n",
        "            has_sword = house(has_sword)  # Pass the sword status to the house function.\n",
        "        elif choice == 'cave':\n",
        "            has_sword = cave()  # Update sword status when visiting the cave.\n",
        "        else:\n",
        "            print(\"Invalid choice. Please type 'house' or 'cave'.\")\n",
        "\n",
        "def play_again():\n",
        "    choice = input(\"Do you want to play again? (yes/no): \").lower()\n",
        "    if choice == 'yes':\n",
        "        play_game()\n",
        "    else:\n",
        "        print(\"Thanks for playing! Goodbye.\")\n",
        "\n",
        "# Start the game\n",
        "play_game()\n",
        "\n"
      ]
    },
    {
      "cell_type": "code",
      "execution_count": 11,
      "metadata": {
        "id": "tAPL84oLp-44"
      },
      "outputs": [],
      "source": []
    }
  ],
  "metadata": {
    "colab": {
      "provenance": [],
      "authorship_tag": "ABX9TyMkbp9a1ofqC/9YNIr2WK9S",
      "include_colab_link": true
    },
    "kernelspec": {
      "display_name": "Python 3",
      "name": "python3"
    },
    "language_info": {
      "name": "python"
    }
  },
  "nbformat": 4,
  "nbformat_minor": 0
}