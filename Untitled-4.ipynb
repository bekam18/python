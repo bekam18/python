{
 "cells": [
  {
   "cell_type": "code",
   "execution_count": 2,
   "metadata": {},
   "outputs": [
    {
     "name": "stdout",
     "output_type": "stream",
     "text": [
      "Welcome to the Number Guessing Game!\n",
      "Too high!\n",
      "Too high!\n",
      "Too low!\n",
      "Invalid input! Please enter a valid number.\n",
      "Too high!\n",
      "Too high!\n",
      "Too high!\n",
      "Too high!\n",
      "Too high!\n",
      "Correct! The secret number is 21 and you guessed it in 9 attempts.\n"
     ]
    }
   ],
   "source": [
    "import random\n",
    "\n",
    "def guessingGame():\n",
    "   \n",
    "    secret_number = random.randint(1, 100)\n",
    "    attempts = 0\n",
    "    print(\"Welcome to the Number Guessing Game!\")\n",
    "\n",
    "\n",
    "\n",
    "    while True:\n",
    "        try:\n",
    "           \n",
    "            guess = int(input(\"Please enter a valid number between 1 and 100: \"))\n",
    "        except ValueError:\n",
    "       \n",
    "            print(\"Invalid input! Please enter a valid number.\")\n",
    "            continue\n",
    "\n",
    "   \n",
    "        attempts+= 1\n",
    "\n",
    "       \n",
    "        if guess > secret_number:\n",
    "            print(\"Too high!\")\n",
    "        elif guess < secret_number:\n",
    "            print(\"Too low!\")\n",
    "        else:\n",
    "         \n",
    "            print(f\"Correct! The secret number is {secret_number} and you guessed it in {attempts} attempts.\")\n",
    "            break\n",
    "\n",
    "guessingGame()"
   ]
  }
 ],
 "metadata": {
  "kernelspec": {
   "display_name": "Python 3",
   "language": "python",
   "name": "python3"
  },
  "language_info": {
   "codemirror_mode": {
    "name": "ipython",
    "version": 3
   },
   "file_extension": ".py",
   "mimetype": "text/x-python",
   "name": "python",
   "nbconvert_exporter": "python",
   "pygments_lexer": "ipython3",
   "version": "3.13.0"
  }
 },
 "nbformat": 4,
 "nbformat_minor": 2
}
