{
  "nbformat": 4,
  "nbformat_minor": 0,
  "metadata": {
    "colab": {
      "provenance": [],
      "authorship_tag": "ABX9TyMiIG2zbuSGZ8FtTDFsN695",
      "include_colab_link": true
    },
    "kernelspec": {
      "name": "python3",
      "display_name": "Python 3"
    },
    "language_info": {
      "name": "python"
    }
  },
  "cells": [
    {
      "cell_type": "markdown",
      "metadata": {
        "id": "view-in-github",
        "colab_type": "text"
      },
      "source": [
        "<a href=\"https://colab.research.google.com/github/bekam18/python/blob/main/wantlock.ipynb\" target=\"_parent\"><img src=\"https://colab.research.google.com/assets/colab-badge.svg\" alt=\"Open In Colab\"/></a>"
      ]
    },
    {
      "cell_type": "code",
      "execution_count": 7,
      "metadata": {
        "colab": {
          "base_uri": "https://localhost:8080/"
        },
        "id": "cqJAJjU_fk6a",
        "outputId": "a8084626-7d30-4a97-9c40-312c248af353"
      },
      "outputs": [
        {
          "output_type": "stream",
          "name": "stdout",
          "text": [
            "yor answer:2\n",
            "wrong answer .you are stuck\n",
            "clue 2 : i speak  without mouth and hear without ears .what am i ?\n",
            "yor answer:4\n",
            "wrong answer .you are still locked\n",
            "you are locked in a room.solve the puzzle to escape\n",
            "clue 1 : what has keys but can't open locks?\n"
          ]
        }
      ],
      "source": [
        "def escape_room():\n",
        "\n",
        "  print(\"you are locked in a room.solve the puzzle to escape\")\n",
        "\n",
        "  print(\"clue 1 : what has keys but can't open locks?\")\n",
        "\n",
        "answer1 = input(\"yor answer:\").lower()\n",
        "\n",
        "if answer1 == \"piano\" or answer1 ==\"keyboard\":\n",
        "  print(\"correct! yiu find a clue  under   the piano \")\n",
        "\n",
        "else:\n",
        " print(\"wrong answer .you are stuck\")\n",
        "\n",
        "\n",
        " print(\"clue 2 : i speak  without mouth and hear without ears .what am i ?\")\n",
        "answer2 = input(\"yor answer:\").lower()\n",
        "if answer2==\"echo \":\n",
        " print(\"correct! you found  the key to the door \")\n",
        "\n",
        " print(\"congratulation  you scaped the  room\")\n",
        "else:\n",
        " print(\"wrong answer .you are still locked\")\n",
        "\n",
        " escape_room()\n"
      ]
    }
  ]
}